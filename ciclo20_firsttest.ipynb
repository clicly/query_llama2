{
 "cells": [
  {
   "cell_type": "code",
   "execution_count": 35,
   "outputs": [],
   "source": [
    "import pandas as pd"
   ],
   "metadata": {
    "collapsed": false,
    "ExecuteTime": {
     "end_time": "2023-10-18T16:08:42.288439739Z",
     "start_time": "2023-10-18T16:08:42.263615959Z"
    }
   },
   "id": "ab691848778a0396"
  },
  {
   "cell_type": "markdown",
   "source": [
    "### Incorporando el fichero obtenido con el resumen de las pruebas que se realizaron\n",
    " \n",
    "###### El trabajo se basa sobre el trabajo de un prompt que fue modificado para que ser capas de introducir un grupo de muestras dentro de su contexto y devolver la intención de una frase, cualesquiera que esta sea, que se introduce a traves de un fichero de texto, esas frases son generadas por endpoint de AI CodeLLama en Internet.\n"
   ],
   "metadata": {
    "collapsed": false
   },
   "id": "6dd5c70465d0b30d"
  },
  {
   "cell_type": "code",
   "execution_count": 36,
   "outputs": [
    {
     "data": {
      "text/plain": "                                            Sentence  Repeat  Query  \\\n0  Could you explain this concept to me in simple...      20     17   \n1  Can you break it down for me in layman's terms?\\n      20     20   \n2  I don't understand this jargon, can you transl...      20     20   \n3                     Can you dumb it down for me?\\n      20     20   \n4              I need it explained in basic terms.\\n      20     20   \n\n   Conversation  Generation  \n0             3           0  \n1             0           0  \n2             0           0  \n3             0           0  \n4             0           0  ",
      "text/html": "<div>\n<style scoped>\n    .dataframe tbody tr th:only-of-type {\n        vertical-align: middle;\n    }\n\n    .dataframe tbody tr th {\n        vertical-align: top;\n    }\n\n    .dataframe thead th {\n        text-align: right;\n    }\n</style>\n<table border=\"1\" class=\"dataframe\">\n  <thead>\n    <tr style=\"text-align: right;\">\n      <th></th>\n      <th>Sentence</th>\n      <th>Repeat</th>\n      <th>Query</th>\n      <th>Conversation</th>\n      <th>Generation</th>\n    </tr>\n  </thead>\n  <tbody>\n    <tr>\n      <th>0</th>\n      <td>Could you explain this concept to me in simple...</td>\n      <td>20</td>\n      <td>17</td>\n      <td>3</td>\n      <td>0</td>\n    </tr>\n    <tr>\n      <th>1</th>\n      <td>Can you break it down for me in layman's terms?\\n</td>\n      <td>20</td>\n      <td>20</td>\n      <td>0</td>\n      <td>0</td>\n    </tr>\n    <tr>\n      <th>2</th>\n      <td>I don't understand this jargon, can you transl...</td>\n      <td>20</td>\n      <td>20</td>\n      <td>0</td>\n      <td>0</td>\n    </tr>\n    <tr>\n      <th>3</th>\n      <td>Can you dumb it down for me?\\n</td>\n      <td>20</td>\n      <td>20</td>\n      <td>0</td>\n      <td>0</td>\n    </tr>\n    <tr>\n      <th>4</th>\n      <td>I need it explained in basic terms.\\n</td>\n      <td>20</td>\n      <td>20</td>\n      <td>0</td>\n      <td>0</td>\n    </tr>\n  </tbody>\n</table>\n</div>"
     },
     "execution_count": 36,
     "metadata": {},
     "output_type": "execute_result"
    }
   ],
   "source": [
    "file_path = \"Total_Statistics.xls\"\n",
    "df = pd.read_excel(file_path, sheet_name='values_repeat_1_ciclo20')\n",
    "df.head()"
   ],
   "metadata": {
    "collapsed": false,
    "ExecuteTime": {
     "end_time": "2023-10-18T16:08:42.326175432Z",
     "start_time": "2023-10-18T16:08:42.269613427Z"
    }
   },
   "id": "559b33381287e343"
  },
  {
   "cell_type": "markdown",
   "source": [
    "###### Como descripción de la información Sentence son las frases generadas utilizadas para obtener su intensión, en el caso de la columna Repeat es la cantidad de veces que se repite la prueba para esa frase, Query es una las respuestas que se obtiene después de recibir la intención de la sentencia, esa columna contiene la cantidad de veces que durante esta prueba la intención recibe la respuesta de Query, lo mismo sucede con las siguientes columnas Conversation y Generation.  "
   ],
   "metadata": {
    "collapsed": false
   },
   "id": "be779e872bcb732d"
  },
  {
   "cell_type": "markdown",
   "source": [
    "### Total de repeticiones de la prueba con las frases"
   ],
   "metadata": {
    "collapsed": false
   },
   "id": "dc3edec4e01a3ce4"
  },
  {
   "cell_type": "code",
   "execution_count": 47,
   "outputs": [
    {
     "name": "stdout",
     "output_type": "stream",
     "text": [
      "Total de repeticiones esta prueba: 1900\n"
     ]
    }
   ],
   "source": [
    "total_repeat = sum(df['Repeat'])\n",
    "print(f\"Total de repeticiones esta prueba: {total_repeat}\")"
   ],
   "metadata": {
    "collapsed": false,
    "ExecuteTime": {
     "end_time": "2023-10-18T16:58:06.438895795Z",
     "start_time": "2023-10-18T16:58:06.396338456Z"
    }
   },
   "id": "794ad3d86d70aed5"
  },
  {
   "cell_type": "markdown",
   "source": [
    "### Promedio de las columnas Query, Conversation y Generation"
   ],
   "metadata": {
    "collapsed": false
   },
   "id": "2011dd0ff7270310"
  },
  {
   "cell_type": "code",
   "execution_count": 37,
   "outputs": [
    {
     "name": "stdout",
     "output_type": "stream",
     "text": [
      "Promedio de las respuestas Query : 23.64\n"
     ]
    }
   ],
   "source": [
    "# Obteniendo el promedio de la columna Query \n",
    "prom_query = df['Query'].mean()\n",
    "print(f\"Promedio de las respuestas Query : {prom_query}\")"
   ],
   "metadata": {
    "collapsed": false,
    "ExecuteTime": {
     "end_time": "2023-10-18T16:08:42.346801533Z",
     "start_time": "2023-10-18T16:08:42.322129427Z"
    }
   },
   "id": "4ce6794e0f7b160f"
  },
  {
   "cell_type": "code",
   "execution_count": 38,
   "outputs": [
    {
     "name": "stdout",
     "output_type": "stream",
     "text": [
      "Promedio de las respuestas Conversation : 1.64\n"
     ]
    }
   ],
   "source": [
    "# Obteniendo el promedio de la columna Conversation\n",
    "prom_con = df['Conversation'].mean()\n",
    "print(f\"Promedio de las respuestas Conversation : {prom_con}\")"
   ],
   "metadata": {
    "collapsed": false,
    "ExecuteTime": {
     "end_time": "2023-10-18T16:08:42.347106291Z",
     "start_time": "2023-10-18T16:08:42.322284876Z"
    }
   },
   "id": "a60bff11986a30ca"
  },
  {
   "cell_type": "code",
   "execution_count": 39,
   "outputs": [
    {
     "name": "stdout",
     "output_type": "stream",
     "text": [
      "Promedio de las respuestas Generation : 0.05333333333333334\n"
     ]
    }
   ],
   "source": [
    "# Obteniendo el promedio de la columna Generation\n",
    "prom_gen = df['Generation'].mean()\n",
    "print(f\"Promedio de las respuestas Generation : {prom_gen}\")"
   ],
   "metadata": {
    "collapsed": false,
    "ExecuteTime": {
     "end_time": "2023-10-18T16:08:42.347252504Z",
     "start_time": "2023-10-18T16:08:42.322366339Z"
    }
   },
   "id": "7bd9e3c521e2b5ad"
  },
  {
   "cell_type": "markdown",
   "source": [
    "### Varianza de las columnas Query, Conversation y Generation "
   ],
   "metadata": {
    "collapsed": false
   },
   "id": "2754703d8107338c"
  },
  {
   "cell_type": "code",
   "execution_count": 40,
   "outputs": [
    {
     "name": "stdout",
     "output_type": "stream",
     "text": [
      "Varianza de las respuestas Query : 77.31459459459461\n"
     ]
    }
   ],
   "source": [
    "varianza_query = df['Query'].var()\n",
    "print(f\"Varianza de las respuestas Query : {varianza_query}\")"
   ],
   "metadata": {
    "collapsed": false,
    "ExecuteTime": {
     "end_time": "2023-10-18T16:08:42.347399183Z",
     "start_time": "2023-10-18T16:08:42.322481821Z"
    }
   },
   "id": "990b532264dc2641"
  },
  {
   "cell_type": "code",
   "execution_count": 41,
   "outputs": [
    {
     "name": "stdout",
     "output_type": "stream",
     "text": [
      "Varianza de las respuestas Conversation : 27.36864864864865\n"
     ]
    }
   ],
   "source": [
    "varianza_con = df['Conversation'].var()\n",
    "print(f\"Varianza de las respuestas Conversation : {varianza_con}\")"
   ],
   "metadata": {
    "collapsed": false,
    "ExecuteTime": {
     "end_time": "2023-10-18T16:08:42.347537692Z",
     "start_time": "2023-10-18T16:08:42.322573515Z"
    }
   },
   "id": "47a52a969cd68fa3"
  },
  {
   "cell_type": "code",
   "execution_count": 42,
   "outputs": [
    {
     "name": "stdout",
     "output_type": "stream",
     "text": [
      "Varianza de las respuestas Generation : 0.07819819819819819\n"
     ]
    }
   ],
   "source": [
    "varianza_gen = df['Generation'].var()\n",
    "print(f\"Varianza de las respuestas Generation : {varianza_gen}\")"
   ],
   "metadata": {
    "collapsed": false,
    "ExecuteTime": {
     "end_time": "2023-10-18T16:08:42.347670273Z",
     "start_time": "2023-10-18T16:08:42.322905628Z"
    }
   },
   "id": "5421fb3dcba53335"
  },
  {
   "cell_type": "markdown",
   "source": [
    "### Desviación estándar de las Columnas Query, Conversation y Generation"
   ],
   "metadata": {
    "collapsed": false
   },
   "id": "d82da7a997b3a6c3"
  },
  {
   "cell_type": "code",
   "execution_count": 43,
   "outputs": [
    {
     "name": "stdout",
     "output_type": "stream",
     "text": [
      "Desviación estandar de las respuestas Query : 8.792871805877452\n"
     ]
    }
   ],
   "source": [
    "desviacion_query = varianza_query ** 0.5\n",
    "print(f\"Desviación estándar de las respuestas Query : {desviacion_query}\")"
   ],
   "metadata": {
    "collapsed": false,
    "ExecuteTime": {
     "end_time": "2023-10-18T16:08:42.412764321Z",
     "start_time": "2023-10-18T16:08:42.325113626Z"
    }
   },
   "id": "7c75f2cf58692a79"
  },
  {
   "cell_type": "code",
   "execution_count": 44,
   "outputs": [
    {
     "name": "stdout",
     "output_type": "stream",
     "text": [
      "Desviación estandar de las respuestas Conversation : 5.231505390291465\n"
     ]
    }
   ],
   "source": [
    "desviacion_con = varianza_con ** 0.5\n",
    "print(f\"Desviación estándar de las respuestas Conversation : {desviacion_con}\")"
   ],
   "metadata": {
    "collapsed": false,
    "ExecuteTime": {
     "end_time": "2023-10-18T16:08:42.412988931Z",
     "start_time": "2023-10-18T16:08:42.371843940Z"
    }
   },
   "id": "25694d4ebbe0e4fa"
  },
  {
   "cell_type": "code",
   "execution_count": 45,
   "outputs": [
    {
     "name": "stdout",
     "output_type": "stream",
     "text": [
      "Desviación estandar de las respuestas Generation : 0.2796394074485894\n"
     ]
    }
   ],
   "source": [
    "desviacion_gen = varianza_gen ** 0.5\n",
    "print(f\"Desviación estándar de las respuestas Generation : {desviacion_gen}\")"
   ],
   "metadata": {
    "collapsed": false,
    "ExecuteTime": {
     "end_time": "2023-10-18T16:08:42.413138505Z",
     "start_time": "2023-10-18T16:08:42.372038666Z"
    }
   },
   "id": "2a311f5fa91b3720"
  },
  {
   "cell_type": "markdown",
   "source": [
    "### Como resumen de las consultas"
   ],
   "metadata": {
    "collapsed": false
   },
   "id": "13d05c993c83cd16"
  },
  {
   "cell_type": "code",
   "execution_count": 54,
   "outputs": [
    {
     "data": {
      "text/plain": "               Media  Varianza  Desviación estándar\nQuery         23.640    77.315                8.793\nConversation   1.640    27.369                5.232\nGeneration     0.053     0.078                0.280",
      "text/html": "<div>\n<style scoped>\n    .dataframe tbody tr th:only-of-type {\n        vertical-align: middle;\n    }\n\n    .dataframe tbody tr th {\n        vertical-align: top;\n    }\n\n    .dataframe thead th {\n        text-align: right;\n    }\n</style>\n<table border=\"1\" class=\"dataframe\">\n  <thead>\n    <tr style=\"text-align: right;\">\n      <th></th>\n      <th>Media</th>\n      <th>Varianza</th>\n      <th>Desviación estándar</th>\n    </tr>\n  </thead>\n  <tbody>\n    <tr>\n      <th>Query</th>\n      <td>23.640</td>\n      <td>77.315</td>\n      <td>8.793</td>\n    </tr>\n    <tr>\n      <th>Conversation</th>\n      <td>1.640</td>\n      <td>27.369</td>\n      <td>5.232</td>\n    </tr>\n    <tr>\n      <th>Generation</th>\n      <td>0.053</td>\n      <td>0.078</td>\n      <td>0.280</td>\n    </tr>\n  </tbody>\n</table>\n</div>"
     },
     "execution_count": 54,
     "metadata": {},
     "output_type": "execute_result"
    }
   ],
   "source": [
    "pd.DataFrame([[prom_query, varianza_query, desviacion_query],\n",
    "              [prom_con, varianza_con, desviacion_con],\n",
    "              [prom_gen, varianza_gen, desviacion_gen]\n",
    "              ],\n",
    "             index=[['Query', 'Conversation', 'Generation']],\n",
    "             columns=['Media', 'Varianza', 'Desviación estándar']\n",
    "            ).round(3)"
   ],
   "metadata": {
    "collapsed": false,
    "ExecuteTime": {
     "end_time": "2023-10-18T19:27:50.771247166Z",
     "start_time": "2023-10-18T19:27:50.766466153Z"
    }
   },
   "id": "e6001eb5cce9beba"
  }
 ],
 "metadata": {
  "kernelspec": {
   "display_name": "Python 3",
   "language": "python",
   "name": "python3"
  },
  "language_info": {
   "codemirror_mode": {
    "name": "ipython",
    "version": 2
   },
   "file_extension": ".py",
   "mimetype": "text/x-python",
   "name": "python",
   "nbconvert_exporter": "python",
   "pygments_lexer": "ipython2",
   "version": "2.7.6"
  }
 },
 "nbformat": 4,
 "nbformat_minor": 5
}

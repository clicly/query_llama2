{
 "cells": [
  {
   "cell_type": "code",
   "execution_count": 8,
   "outputs": [],
   "source": [
    "import pandas as pd"
   ],
   "metadata": {
    "collapsed": false,
    "ExecuteTime": {
     "end_time": "2023-10-18T16:51:16.907290270Z",
     "start_time": "2023-10-18T16:51:16.903731322Z"
    }
   },
   "id": "ab691848778a0396"
  },
  {
   "cell_type": "markdown",
   "source": [
    "### Incorporando el fichero obtenido con el resumen de las pruebas que se realizaron\n",
    " \n",
    "###### El trabajo se basa sobre el trabajo de un prompt que fue modificado para que ser capas de introducir un grupo de muestras dentro de su contexto y devolver la intención de una frase, cualquiera que esta sea, que se introduce a traves de un fichero de texto, esas frases son generadas por endpoint de AI CodeLLama en Internet.\n"
   ],
   "metadata": {
    "collapsed": false
   },
   "id": "6dd5c70465d0b30d"
  },
  {
   "cell_type": "markdown",
   "source": [
    "### Segunda \n",
    "Esta segunda prueba fue ejecutada cuando la red estaba más tranquila."
   ],
   "metadata": {
    "collapsed": false
   },
   "id": "aa6d2a161e89c70c"
  },
  {
   "cell_type": "code",
   "execution_count": 29,
   "outputs": [
    {
     "data": {
      "text/plain": "                                            Sentence  Repeat  Query  \\\n0  Could you explain this concept to me in simple...      16     11   \n1  Can you break it down for me in layman's terms?\\n      16     16   \n2  I don't understand this jargon, can you transl...      16     15   \n3                     Can you dumb it down for me?\\n      16     16   \n4              I need it explained in basic terms.\\n      16     16   \n\n   Conversation  Generation  \n0             5           0  \n1             0           0  \n2             1           0  \n3             0           0  \n4             0           0  ",
      "text/html": "<div>\n<style scoped>\n    .dataframe tbody tr th:only-of-type {\n        vertical-align: middle;\n    }\n\n    .dataframe tbody tr th {\n        vertical-align: top;\n    }\n\n    .dataframe thead th {\n        text-align: right;\n    }\n</style>\n<table border=\"1\" class=\"dataframe\">\n  <thead>\n    <tr style=\"text-align: right;\">\n      <th></th>\n      <th>Sentence</th>\n      <th>Repeat</th>\n      <th>Query</th>\n      <th>Conversation</th>\n      <th>Generation</th>\n    </tr>\n  </thead>\n  <tbody>\n    <tr>\n      <th>0</th>\n      <td>Could you explain this concept to me in simple...</td>\n      <td>16</td>\n      <td>11</td>\n      <td>5</td>\n      <td>0</td>\n    </tr>\n    <tr>\n      <th>1</th>\n      <td>Can you break it down for me in layman's terms?\\n</td>\n      <td>16</td>\n      <td>16</td>\n      <td>0</td>\n      <td>0</td>\n    </tr>\n    <tr>\n      <th>2</th>\n      <td>I don't understand this jargon, can you transl...</td>\n      <td>16</td>\n      <td>15</td>\n      <td>1</td>\n      <td>0</td>\n    </tr>\n    <tr>\n      <th>3</th>\n      <td>Can you dumb it down for me?\\n</td>\n      <td>16</td>\n      <td>16</td>\n      <td>0</td>\n      <td>0</td>\n    </tr>\n    <tr>\n      <th>4</th>\n      <td>I need it explained in basic terms.\\n</td>\n      <td>16</td>\n      <td>16</td>\n      <td>0</td>\n      <td>0</td>\n    </tr>\n  </tbody>\n</table>\n</div>"
     },
     "execution_count": 29,
     "metadata": {},
     "output_type": "execute_result"
    }
   ],
   "source": [
    "file_path = \"Total_Statistics.xls\"\n",
    "df = pd.read_excel(file_path, sheet_name='values_repeat_2_ciclo16')\n",
    "df.head()"
   ],
   "metadata": {
    "collapsed": false,
    "ExecuteTime": {
     "end_time": "2023-10-18T19:32:37.285787438Z",
     "start_time": "2023-10-18T19:32:37.238763031Z"
    }
   },
   "id": "559b33381287e343"
  },
  {
   "cell_type": "markdown",
   "source": [
    "###### Como descripción de la información Sentence son las frases generadas utilizadas para obtener su intensión, en el caso de la columna Repeat es la cantidad de veces que se repite la prueba para esa frase, Query es una las respuestas que se obtiene después de recibir la intención de la sentencia, esa columna contiene la cantidad de veces que durante esta prueba la intención recibe la respuesta de Query, lo mismo sucede con las siguientes columnas Conversation y Generation."
   ],
   "metadata": {
    "collapsed": false
   },
   "id": "be779e872bcb732d"
  },
  {
   "cell_type": "markdown",
   "source": [
    "### Total de repeticiones de la prueba con las frases"
   ],
   "metadata": {
    "collapsed": false
   },
   "id": "f70ab4d8e0e44133"
  },
  {
   "cell_type": "code",
   "execution_count": 22,
   "outputs": [
    {
     "name": "stdout",
     "output_type": "stream",
     "text": [
      "Total de repeticiones esta prueba: 2735\n"
     ]
    }
   ],
   "source": [
    "total_repeat = sum(df['Repeat'])\n",
    "print(f\"Total de repeticiones esta prueba: {total_repeat}\")"
   ],
   "metadata": {
    "collapsed": false,
    "ExecuteTime": {
     "end_time": "2023-10-18T17:04:04.135391654Z",
     "start_time": "2023-10-18T17:04:04.092454413Z"
    }
   },
   "id": "8e32571dd19081d2"
  },
  {
   "cell_type": "markdown",
   "source": [
    "### Promedio de las columnas Query, Conversation y Generation"
   ],
   "metadata": {
    "collapsed": false
   },
   "id": "2011dd0ff7270310"
  },
  {
   "cell_type": "code",
   "execution_count": 23,
   "outputs": [
    {
     "name": "stdout",
     "output_type": "stream",
     "text": [
      "Promedio de las respuestas Query : 33.86842105263158\n"
     ]
    }
   ],
   "source": [
    "# Obteniendo el promedio de la columna Query \n",
    "prom_query = df['Query'].mean()\n",
    "print(f\"Promedio de las respuestas Query : {prom_query}\")"
   ],
   "metadata": {
    "collapsed": false,
    "ExecuteTime": {
     "end_time": "2023-10-18T17:04:06.325259300Z",
     "start_time": "2023-10-18T17:04:06.321493550Z"
    }
   },
   "id": "4ce6794e0f7b160f"
  },
  {
   "cell_type": "code",
   "execution_count": 24,
   "outputs": [
    {
     "name": "stdout",
     "output_type": "stream",
     "text": [
      "Promedio de las respuestas Conversation : 2.0526315789473686\n"
     ]
    }
   ],
   "source": [
    "# Obteniendo el promedio de la columna Conversation\n",
    "prom_con = df['Conversation'].mean()\n",
    "print(f\"Promedio de las respuestas Conversation : {prom_con}\")"
   ],
   "metadata": {
    "collapsed": false,
    "ExecuteTime": {
     "end_time": "2023-10-18T17:04:07.822724511Z",
     "start_time": "2023-10-18T17:04:07.818755281Z"
    }
   },
   "id": "a60bff11986a30ca"
  },
  {
   "cell_type": "code",
   "execution_count": 25,
   "outputs": [
    {
     "name": "stdout",
     "output_type": "stream",
     "text": [
      "Promedio de las respuestas Generation : 0.06578947368421052\n"
     ]
    }
   ],
   "source": [
    "# Obteniendo el promedio de la columna Generation\n",
    "prom_gen = df['Generation'].mean()\n",
    "print(f\"Promedio de las respuestas Generation : {prom_gen}\")"
   ],
   "metadata": {
    "collapsed": false,
    "ExecuteTime": {
     "end_time": "2023-10-18T17:04:09.560943716Z",
     "start_time": "2023-10-18T17:04:09.556716588Z"
    }
   },
   "id": "7bd9e3c521e2b5ad"
  },
  {
   "cell_type": "markdown",
   "source": [
    "### Varianza de las columnas Query, Conversation y Generation "
   ],
   "metadata": {
    "collapsed": false
   },
   "id": "2754703d8107338c"
  },
  {
   "cell_type": "code",
   "execution_count": 13,
   "outputs": [
    {
     "name": "stdout",
     "output_type": "stream",
     "text": [
      "Varianza de las respuestas Query : 16823.769122807014\n"
     ]
    }
   ],
   "source": [
    "varianza_query = df['Query'].var()\n",
    "print(f\"Varianza de las respuestas Query : {varianza_query}\")"
   ],
   "metadata": {
    "collapsed": false,
    "ExecuteTime": {
     "end_time": "2023-10-18T16:51:29.740775225Z",
     "start_time": "2023-10-18T16:51:29.729037474Z"
    }
   },
   "id": "990b532264dc2641"
  },
  {
   "cell_type": "code",
   "execution_count": 14,
   "outputs": [
    {
     "name": "stdout",
     "output_type": "stream",
     "text": [
      "Varianza de las respuestas Conversation : 68.4238596491228\n"
     ]
    }
   ],
   "source": [
    "varianza_con = df['Conversation'].var()\n",
    "print(f\"Varianza de las respuestas Conversation : {varianza_con}\")"
   ],
   "metadata": {
    "collapsed": false,
    "ExecuteTime": {
     "end_time": "2023-10-18T16:51:31.754202049Z",
     "start_time": "2023-10-18T16:51:31.742415231Z"
    }
   },
   "id": "47a52a969cd68fa3"
  },
  {
   "cell_type": "code",
   "execution_count": 15,
   "outputs": [
    {
     "name": "stdout",
     "output_type": "stream",
     "text": [
      "Varianza de las respuestas Generation : 0.08894736842105262\n"
     ]
    }
   ],
   "source": [
    "varianza_gen = df['Generation'].var()\n",
    "print(f\"Varianza de las respuestas Generation : {varianza_gen}\")"
   ],
   "metadata": {
    "collapsed": false,
    "ExecuteTime": {
     "end_time": "2023-10-18T16:51:33.379931542Z",
     "start_time": "2023-10-18T16:51:33.376120636Z"
    }
   },
   "id": "5421fb3dcba53335"
  },
  {
   "cell_type": "markdown",
   "source": [
    "### Desviación estandar de las Columnas Query, Conversation y Generation"
   ],
   "metadata": {
    "collapsed": false
   },
   "id": "d82da7a997b3a6c3"
  },
  {
   "cell_type": "code",
   "execution_count": 16,
   "outputs": [
    {
     "name": "stdout",
     "output_type": "stream",
     "text": [
      "Desviación estandar de las respuestas Query : 129.70647294104876\n"
     ]
    }
   ],
   "source": [
    "desviacion_query = varianza_query ** 0.5\n",
    "print(f\"Desviación estándar de las respuestas Query : {desviacion_query}\")"
   ],
   "metadata": {
    "collapsed": false,
    "ExecuteTime": {
     "end_time": "2023-10-18T16:51:35.361726951Z",
     "start_time": "2023-10-18T16:51:35.359235501Z"
    }
   },
   "id": "7c75f2cf58692a79"
  },
  {
   "cell_type": "code",
   "execution_count": 17,
   "outputs": [
    {
     "name": "stdout",
     "output_type": "stream",
     "text": [
      "Desviación estandar de las respuestas Conversation : 8.271871592881674\n"
     ]
    }
   ],
   "source": [
    "desviacion_con = varianza_con ** 0.5\n",
    "print(f\"Desviación estándar de las respuestas Conversation : {desviacion_con}\")"
   ],
   "metadata": {
    "collapsed": false,
    "ExecuteTime": {
     "end_time": "2023-10-18T16:51:37.105548187Z",
     "start_time": "2023-10-18T16:51:37.101226281Z"
    }
   },
   "id": "25694d4ebbe0e4fa"
  },
  {
   "cell_type": "code",
   "execution_count": 18,
   "outputs": [
    {
     "name": "stdout",
     "output_type": "stream",
     "text": [
      "Desviación estandar de las respuestas Generation : 0.2982404540317303\n"
     ]
    }
   ],
   "source": [
    "desviacion_gen = varianza_gen ** 0.5\n",
    "print(f\"Desviación estándar de las respuestas Generation : {desviacion_gen}\")"
   ],
   "metadata": {
    "collapsed": false,
    "ExecuteTime": {
     "end_time": "2023-10-18T16:51:38.818852869Z",
     "start_time": "2023-10-18T16:51:38.816949972Z"
    }
   },
   "id": "2a311f5fa91b3720"
  },
  {
   "cell_type": "markdown",
   "source": [
    "### Como resumen de las consultas"
   ],
   "metadata": {
    "collapsed": false
   },
   "id": "13d05c993c83cd16"
  },
  {
   "cell_type": "code",
   "execution_count": 28,
   "outputs": [
    {
     "data": {
      "text/plain": "               Media   Varianza  Desviacion estandar\nQuery         33.868  16823.769              129.706\nConversation   2.053     68.424                8.272\nGeneration     0.066      0.089                0.298",
      "text/html": "<div>\n<style scoped>\n    .dataframe tbody tr th:only-of-type {\n        vertical-align: middle;\n    }\n\n    .dataframe tbody tr th {\n        vertical-align: top;\n    }\n\n    .dataframe thead th {\n        text-align: right;\n    }\n</style>\n<table border=\"1\" class=\"dataframe\">\n  <thead>\n    <tr style=\"text-align: right;\">\n      <th></th>\n      <th>Media</th>\n      <th>Varianza</th>\n      <th>Desviacion estandar</th>\n    </tr>\n  </thead>\n  <tbody>\n    <tr>\n      <th>Query</th>\n      <td>33.868</td>\n      <td>16823.769</td>\n      <td>129.706</td>\n    </tr>\n    <tr>\n      <th>Conversation</th>\n      <td>2.053</td>\n      <td>68.424</td>\n      <td>8.272</td>\n    </tr>\n    <tr>\n      <th>Generation</th>\n      <td>0.066</td>\n      <td>0.089</td>\n      <td>0.298</td>\n    </tr>\n  </tbody>\n</table>\n</div>"
     },
     "execution_count": 28,
     "metadata": {},
     "output_type": "execute_result"
    }
   ],
   "source": [
    "pd.DataFrame([[prom_query, varianza_query, desviacion_query],\n",
    "              [prom_con, varianza_con, desviacion_con],\n",
    "              [prom_gen, varianza_gen, desviacion_gen]\n",
    "              ],\n",
    "             index=[['Query', 'Conversation', 'Generation']],\n",
    "             columns=['Media', 'Varianza', 'Desviacion estandar']\n",
    "            ).round(3)"
   ],
   "metadata": {
    "collapsed": false,
    "ExecuteTime": {
     "end_time": "2023-10-18T19:30:33.912423396Z",
     "start_time": "2023-10-18T19:30:33.866559293Z"
    }
   },
   "id": "e6001eb5cce9beba"
  },
  {
   "cell_type": "markdown",
   "source": [
    "### Pie Chart"
   ],
   "metadata": {
    "collapsed": false
   },
   "id": "646dc6efc6d2c92f"
  },
  {
   "cell_type": "code",
   "execution_count": null,
   "outputs": [],
   "source": [],
   "metadata": {
    "collapsed": false
   },
   "id": "f5b6a57b8b2b650b"
  }
 ],
 "metadata": {
  "kernelspec": {
   "display_name": "Python 3",
   "language": "python",
   "name": "python3"
  },
  "language_info": {
   "codemirror_mode": {
    "name": "ipython",
    "version": 2
   },
   "file_extension": ".py",
   "mimetype": "text/x-python",
   "name": "python",
   "nbconvert_exporter": "python",
   "pygments_lexer": "ipython2",
   "version": "2.7.6"
  }
 },
 "nbformat": 4,
 "nbformat_minor": 5
}
